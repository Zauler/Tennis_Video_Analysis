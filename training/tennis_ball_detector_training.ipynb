{
 "cells": [
  {
   "cell_type": "code",
   "execution_count": null,
   "metadata": {},
   "outputs": [],
   "source": []
  },
  {
   "cell_type": "code",
   "execution_count": null,
   "metadata": {},
   "outputs": [],
   "source": []
  },
  {
   "cell_type": "markdown",
   "metadata": {},
   "source": [
    "# Get Dastaset"
   ]
  },
  {
   "cell_type": "code",
   "execution_count": null,
   "metadata": {},
   "outputs": [],
   "source": [
    "# from roboflow import Roboflow\n",
    "# rf = Roboflow(api_key=\"unauthorized\")\n",
    "# project = rf.workspace(\"viren-dhanwani\").project(\"tennis-ball-detection\")\n",
    "# version = project.version(1)\n",
    "# dataset = version.download(\"yolov5\")\n"
   ]
  },
  {
   "cell_type": "code",
   "execution_count": 1,
   "metadata": {},
   "outputs": [],
   "source": [
    "import shutil #Librería para mover las cosas de sitio."
   ]
  },
  {
   "cell_type": "code",
   "execution_count": 6,
   "metadata": {},
   "outputs": [
    {
     "data": {
      "text/plain": [
       "'../tennis-ball-detection-6/tennis-ball-detection-6/valid'"
      ]
     },
     "execution_count": 6,
     "metadata": {},
     "output_type": "execute_result"
    }
   ],
   "source": [
    "shutil.move(\"../tennis-ball-detection-6/train\",\n",
    "            \"../tennis-ball-detection-6/tennis-ball-detection-6/train\",)\n",
    "shutil.move(\"../tennis-ball-detection-6/test\",\n",
    "            \"../tennis-ball-detection-6/tennis-ball-detection-6/test\",)\n",
    "shutil.move(\"../tennis-ball-detection-6/valid\",\n",
    "            \"../tennis-ball-detection-6/tennis-ball-detection-6/valid\",)"
   ]
  },
  {
   "cell_type": "code",
   "execution_count": 1,
   "metadata": {},
   "outputs": [],
   "source": [
    "from ultralytics import YOLO\n",
    "model = YOLO(model=\"yolov5l6u\")"
   ]
  },
  {
   "cell_type": "code",
   "execution_count": 8,
   "metadata": {},
   "outputs": [],
   "source": [
    "#TIENES QUE IR DONDE ESTA EL ARCHIVO YALM DE ULTRALITICS EN MI CARPETA DE USUARIO PARA MODIFICAR LA RUTA DEL DATASET, DE LA PREIMRA CARPETA, EN ESTE CASO sería algo como D:\\Documentos\\2407_ AI_Tennis_YOLO_Pytorch\\tennis-ball-detection-6\n",
    "dataset_location = \"../tennis-ball-detection-6\"\n",
    "!yolo task=detect mode=train model=yolov5l6u.pt data={dataset_location}/data.yaml epochs=100 imgsz=640"
   ]
  }
 ],
 "metadata": {
  "kernelspec": {
   "display_name": "env",
   "language": "python",
   "name": "python3"
  },
  "language_info": {
   "codemirror_mode": {
    "name": "ipython",
    "version": 3
   },
   "file_extension": ".py",
   "mimetype": "text/x-python",
   "name": "python",
   "nbconvert_exporter": "python",
   "pygments_lexer": "ipython3",
   "version": "3.10.9"
  }
 },
 "nbformat": 4,
 "nbformat_minor": 2
}
